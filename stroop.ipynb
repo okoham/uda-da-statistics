{
 "cells": [
  {
   "cell_type": "markdown",
   "metadata": {},
   "source": [
    "# Stroop Effect"
   ]
  },
  {
   "attachments": {
    "congruent.PNG": {
     "image/png": "[encoded data removed]"
    },
    "incongruent.PNG": {
     "image/png": "[encoded data removed]"
    }
   },
   "cell_type": "markdown",
   "metadata": {},
   "source": [
    "## Introduction\n",
    "\n",
    "In a Stroop task, participants are presented with a list of words, with each word displayed in a color of ink. The participant’s task is to say out loud the color of the ink in which the word is printed. The task has two conditions: a congruent words condition, and an incongruent words condition. In the congruent words condition, the words being displayed are color words whose names match the colors in which they are printed: \n",
    "\n",
    "![congruent.PNG](attachment:congruent.PNG)\n",
    "\n",
    "In the incongruent words condition, the words displayed are color words whose names do not match the colors in which they are printed: \n",
    "\n",
    "![incongruent.PNG](attachment:incongruent.PNG)\n",
    "\n",
    "In each case, we measure the time it takes to name the ink colors in equally-sized lists. Each participant will go through and record a time from each condition [1], [2].\n",
    "\n",
    "\n",
    "### Self experiment\n",
    "\n",
    "- Congruent task: 14.749 s\n",
    "- Incongruent task: 25.639\n"
   ]
  },
  {
   "cell_type": "markdown",
   "metadata": {},
   "source": [
    "## 1. Identify variables in the experiment\n",
    "\n",
    "The independent variable is the condition of the task (are colours and names congruent or incongruent). \n",
    "The dependent variable is the time in seconds to name the _colours_ of all words. "
   ]
  },
  {
   "cell_type": "markdown",
   "metadata": {},
   "source": [
    "## 2. What is an appropriate set of hypotheses for this task? What kind of statistical test do you expect to perform? \n",
    "\n",
    "The population parameters (mean, variance) are unknown. An appropriate test for this situation\n",
    "is a t-test.\n",
    "\n",
    "The experiment is a \"within-subject design\" with two conditions. I will perform a t-test for the difference $x_D = x_I - x_C$.\n",
    "\n",
    "I will perform a one-sided test. \n",
    "\n",
    "Null hypothesis: The time for the incongruent condition is not significantly longer than\n",
    "for the congruent condition. \n",
    "\n",
    "$H_0: \\mu_I <= \\mu_C \\quad (\\mu_D <= 0)$\n",
    "\n",
    "Alternative hypothesis: The incongruent condition take significantly longer.\n",
    "\n",
    "$H_A: \\mu_I > \\mu_C \\quad (\\mu_D > 0)$\n",
    "\n",
    "\n",
    "* $x_C$ ... time (in s) to name the colours, congruent condition\n",
    "* $x_I$ ... time (in s) to name the colours, incongruent condition\n",
    "* $x_D = x_I - x_C$ ... time difference (in s) between congruent and incongruent condition\n",
    "* $\\mu_C$ is the population mean of the time to name all colours in the congruent condition.\n",
    "* $\\mu_I$ is the population mean of the time to name all colours in the incongruent condition.\n",
    "* $\\mu_D$ is the population mean of the time difference."
   ]
  },
  {
   "cell_type": "markdown",
   "metadata": {},
   "source": [
    "### Assumptions for t test\n",
    "\n",
    "- distribution of $\\mu_D$ should be approximately normal\n",
    "- the sample data can be used to estimate the population variance"
   ]
  },
  {
   "cell_type": "markdown",
   "metadata": {},
   "source": [
    "## 3. Report some descriptive statistics regarding this dataset. Include at least one measure of central tendency and at least one measure of variability."
   ]
  },
  {
   "cell_type": "code",
   "execution_count": 1,
   "metadata": {},
   "outputs": [],
   "source": [
    "%matplotlib inline\n",
    "import matplotlib.pyplot as plt\n",
    "import pandas as pd\n",
    "import numpy as np\n",
    "from scipy import stats\n",
    "import math"
   ]
  },
  {
   "cell_type": "code",
   "execution_count": 2,
   "metadata": {},
   "outputs": [
    {
     "data": {
      "text/html": [
       "<div>\n",
       "<style scoped>\n",
       "    .dataframe tbody tr th:only-of-type {\n",
       "        vertical-align: middle;\n",
       "    }\n",
       "\n",
       "    .dataframe tbody tr th {\n",
       "        vertical-align: top;\n",
       "    }\n",
       "\n",
       "    .dataframe thead th {\n",
       "        text-align: right;\n",
       "    }\n",
       "</style>\n",
       "<table border=\"1\" class=\"dataframe\">\n",
       "  <thead>\n",
       "    <tr style=\"text-align: right;\">\n",
       "      <th></th>\n",
       "      <th>Congruent</th>\n",
       "      <th>Incongruent</th>\n",
       "      <th>Difference</th>\n",
       "    </tr>\n",
       "  </thead>\n",
       "  <tbody>\n",
       "    <tr>\n",
       "      <th>count</th>\n",
       "      <td>24.000000</td>\n",
       "      <td>24.000000</td>\n",
       "      <td>24.000000</td>\n",
       "    </tr>\n",
       "    <tr>\n",
       "      <th>mean</th>\n",
       "      <td>14.051125</td>\n",
       "      <td>22.015917</td>\n",
       "      <td>7.964792</td>\n",
       "    </tr>\n",
       "    <tr>\n",
       "      <th>std</th>\n",
       "      <td>3.559358</td>\n",
       "      <td>4.797057</td>\n",
       "      <td>4.864827</td>\n",
       "    </tr>\n",
       "    <tr>\n",
       "      <th>min</th>\n",
       "      <td>8.630000</td>\n",
       "      <td>15.687000</td>\n",
       "      <td>1.950000</td>\n",
       "    </tr>\n",
       "    <tr>\n",
       "      <th>25%</th>\n",
       "      <td>11.895250</td>\n",
       "      <td>18.716750</td>\n",
       "      <td>3.645500</td>\n",
       "    </tr>\n",
       "    <tr>\n",
       "      <th>50%</th>\n",
       "      <td>14.356500</td>\n",
       "      <td>21.017500</td>\n",
       "      <td>7.666500</td>\n",
       "    </tr>\n",
       "    <tr>\n",
       "      <th>75%</th>\n",
       "      <td>16.200750</td>\n",
       "      <td>24.051500</td>\n",
       "      <td>10.258500</td>\n",
       "    </tr>\n",
       "    <tr>\n",
       "      <th>max</th>\n",
       "      <td>22.328000</td>\n",
       "      <td>35.255000</td>\n",
       "      <td>21.919000</td>\n",
       "    </tr>\n",
       "  </tbody>\n",
       "</table>\n",
       "</div>"
      ],
      "text/plain": [
       "       Congruent  Incongruent  Difference\n",
       "count  24.000000    24.000000   24.000000\n",
       "mean   14.051125    22.015917    7.964792\n",
       "std     3.559358     4.797057    4.864827\n",
       "min     8.630000    15.687000    1.950000\n",
       "25%    11.895250    18.716750    3.645500\n",
       "50%    14.356500    21.017500    7.666500\n",
       "75%    16.200750    24.051500   10.258500\n",
       "max    22.328000    35.255000   21.919000"
      ]
     },
     "execution_count": 2,
     "metadata": {},
     "output_type": "execute_result"
    }
   ],
   "source": [
    "stroopdata = pd.read_csv(\"stroopdata.csv\")\n",
    "stroopdata['Difference'] = stroopdata.Incongruent - stroopdata.Congruent\n",
    "stroopdata.describe()"
   ]
  },
  {
   "cell_type": "markdown",
   "metadata": {},
   "source": [
    "## 4. Plot the data\n"
   ]
  },
  {
   "cell_type": "code",
   "execution_count": 3,
   "metadata": {},
   "outputs": [
    {
     "data": {
      "image/png": "[encoded data removed]",
      "text/plain": [
       "<Figure size 864x288 with 2 Axes>"
      ]
     },
     "metadata": {
      "needs_background": "light"
     },
     "output_type": "display_data"
    }
   ],
   "source": [
    "fig, (ax1, ax2) = plt.subplots(1, 2, figsize=(12,4))\n",
    "stroopdata.plot(x=\"Congruent\", y=\"Incongruent\", kind=\"scatter\", ax=ax1)\n",
    "ax1.grid(True)\n",
    "ax1.set_xlim(0)\n",
    "ax1.set_ylim(0)\n",
    "ax1.set_aspect(\"equal\")\n",
    "ax1.set_title(\"Scatter Plot\")\n",
    "\n",
    "stroopdata.plot(kind='box', ax=ax2, title=\"Box Plot\");"
   ]
  },
  {
   "cell_type": "markdown",
   "metadata": {},
   "source": [
    "### Observations\n",
    "\n",
    "* The scatter plot suggests a correlation between the time for congruent and incongruent tasks.\n",
    "* The box plots visualise the distribution of times for congruent and incongruent tasks, and the \n",
    "  difference between them. The distributions are more or less symmetrical, which is an assumption \n",
    "  of the t-test. "
   ]
  },
  {
   "cell_type": "markdown",
   "metadata": {},
   "source": [
    "## 5. Perform the statistical test and interpret your results\n",
    "\n"
   ]
  },
  {
   "cell_type": "code",
   "execution_count": 4,
   "metadata": {},
   "outputs": [
    {
     "name": "stdout",
     "output_type": "stream",
     "text": [
      "alpha = 0.050\n",
      "Sample size n = 24\n",
      "Sample mean = 7.965\n",
      "Sample standard deviation = 4.865\n",
      "Standard error of mean = 0.993\n",
      "T statistic = 8.021\n",
      "df = 23\n",
      "t_critical = 1.714\n",
      "p-value = 2.052e-08\n",
      "Reject H0\n",
      "Cohen's d = 1.637\n",
      "r2 = 0.737\n",
      "t* = 0.063\n",
      "Margin of error = 0.063\n",
      "95% confidence interval for mean = (7.902, 8.028)\n"
     ]
    }
   ],
   "source": [
    "alpha = 0.05       # significance level for t test\n",
    "conf_level = 0.95  # confidence coefficient for interval\n",
    "\n",
    "print(\"alpha = %.3f\" % alpha)\n",
    "\n",
    "# length of sample\n",
    "n = len(stroopdata.Difference)\n",
    "print(\"Sample size n = %g\" % n)\n",
    "\n",
    "# point estimate for mu_d\n",
    "xbar_d = stroopdata.Difference.mean()\n",
    "print(\"Sample mean = %.3f\" % xbar_d)\n",
    "\n",
    "# Standard deviation of difference\n",
    "s = stroopdata.Difference.std(ddof=1)\n",
    "print(\"Sample standard deviation = %.3f\" % s)\n",
    "\n",
    "# standard error of mean\n",
    "sem = s / np.sqrt(n)\n",
    "print(\"Standard error of mean = %.3f\" % sem)\n",
    "\n",
    "# t statistic\n",
    "t = xbar_d / sem\n",
    "print(\"T statistic = %.3f\" % t)\n",
    "\n",
    "# t critical, 0.05, one-sided\n",
    "ndof = n - 1\n",
    "print(\"df = %g\" % ndof)\n",
    "tcrit = stats.t.ppf(1-alpha, ndof)\n",
    "print(\"t_critical = %.3f\" % tcrit)\n",
    "\n",
    "# probability of getting this mean\n",
    "p = 1 - stats.t.cdf(t, ndof) # that's low.\n",
    "print(\"p-value = %.3e\" % p)\n",
    "\n",
    "# reject h0?\n",
    "if p < alpha:\n",
    "    print(\"Reject H0\")\n",
    "else: \n",
    "    print(\"Accept H0\")\n",
    "\n",
    "# effect size: cohens d\n",
    "dco = xbar_d/s\n",
    "print(\"Cohen's d = %.3f\" % dco)\n",
    "\n",
    "# coefficient of determination\n",
    "r2 = t**2 / (t**2 + ndof)\n",
    "print(\"r2 = %.3f\" % r2)\n",
    "\n",
    "# confidence interval for mean\n",
    "tstar = stats.t.ppf(1-conf_level/2, ndof)\n",
    "print(\"t* = %.3f\" % tstar)\n",
    "\n",
    "# margin of error\n",
    "me = tstar*sem\n",
    "print(\"Margin of error = %.3f\" % me)\n",
    "\n",
    "# confidence interval\n",
    "print(\"%.0f%% confidence interval for mean = (%.3f, %.3f)\" % (conf_level*100, xbar_d - me, xbar_d + me))"
   ]
  },
  {
   "cell_type": "markdown",
   "metadata": {},
   "source": [
    "### Interpretation\n",
    "\n",
    "The t-test results in a p-value of $2.052 \\cdot 10^{-8}$. \n",
    "This less than the specified significance level of 0.05. \n",
    "\n",
    "I reject the null hypothesis and conclude that time for the incongruent task is significantly longer \n",
    "than for the congruent task.\n",
    "\n",
    "The coefficient of determination, $r^2$ is 0.737. This means that about 74% of the difference in time \n",
    "is due to the incongruence between the word and the colour of the word.\n",
    "\n",
    "Theories on the causes are described in a wikipedia article about the Stroop effect [3]. One theory is that the brain reads words faster than it recognizes colours. "
   ]
  },
  {
   "cell_type": "markdown",
   "metadata": {},
   "source": [
    "## References\n",
    "\n",
    "1. Project instructions: https://docs.google.com/document/d/1-OkpZLjG_kX9J6LIQ5IltsqMzVWjh36QpnP2RYpVdPU/pub?embedded=True\n",
    "2. Stroop test app and description: https://faculty.washington.edu/chudler/words.html\n",
    "3. Wikipedia article on Stroop effect: https://en.wikipedia.org/wiki/Stroop_effect\n",
    "4. NIST Engineering Statistics Handbook: https://www.itl.nist.gov/div898/handbook/index.htm\n",
    "5. scipy.stats documentation: https://docs.scipy.org/doc/scipy/reference/stats.html#module-scipy.stats"
   ]
  }
 ],
 "metadata": {
  "kernelspec": {
   "display_name": "Python 3",
   "language": "python",
   "name": "python3"
  },
  "language_info": {
   "codemirror_mode": {
    "name": "ipython",
    "version": 3
   },
   "file_extension": ".py",
   "mimetype": "text/x-python",
   "name": "python",
   "nbconvert_exporter": "python",
   "pygments_lexer": "ipython3",
   "version": "3.6.8"
  }
 },
 "nbformat": 4,
 "nbformat_minor": 4
}
